{
 "nbformat": 4,
 "nbformat_minor": 2,
 "metadata": {
  "language_info": {
   "name": "python",
   "codemirror_mode": {
    "name": "ipython",
    "version": 3
   },
   "version": "3.6.5"
  },
  "orig_nbformat": 2,
  "file_extension": ".py",
  "mimetype": "text/x-python",
  "name": "python",
  "npconvert_exporter": "python",
  "pygments_lexer": "ipython3",
  "version": 3
 },
 "cells": [
  {
   "cell_type": "markdown",
   "execution_count": null,
   "metadata": {},
   "outputs": [],
   "source": [
    "TODO:\n",
    "- clean data\n",
    "- for Publishers subset check all publisher names\n",
    "- select only those above certain number of games or split into high and low ones"
   ]
  },
  {
   "cell_type": "code",
   "execution_count": 10,
   "metadata": {},
   "outputs": [
    {
     "data": {
      "text/html": "<div>\n<style scoped>\n    .dataframe tbody tr th:only-of-type {\n        vertical-align: middle;\n    }\n\n    .dataframe tbody tr th {\n        vertical-align: top;\n    }\n\n    .dataframe thead th {\n        text-align: right;\n    }\n</style>\n<table border=\"1\" class=\"dataframe\">\n  <thead>\n    <tr style=\"text-align: right;\">\n      <th></th>\n      <th>Rank</th>\n      <th>Name</th>\n      <th>basename</th>\n      <th>Genre</th>\n      <th>ESRB_Rating</th>\n      <th>Platform</th>\n      <th>Publisher</th>\n      <th>Developer</th>\n      <th>VGChartz_Score</th>\n      <th>Critic_Score</th>\n      <th>...</th>\n      <th>NA_Sales</th>\n      <th>PAL_Sales</th>\n      <th>JP_Sales</th>\n      <th>Other_Sales</th>\n      <th>Year</th>\n      <th>Last_Update</th>\n      <th>url</th>\n      <th>status</th>\n      <th>Vgchartzscore</th>\n      <th>img_url</th>\n    </tr>\n  </thead>\n  <tbody>\n    <tr>\n      <th>0</th>\n      <td>1</td>\n      <td>Wii Sports</td>\n      <td>wii-sports</td>\n      <td>Sports</td>\n      <td>E</td>\n      <td>Wii</td>\n      <td>Nintendo</td>\n      <td>Nintendo EAD</td>\n      <td>NaN</td>\n      <td>7.7</td>\n      <td>...</td>\n      <td>NaN</td>\n      <td>NaN</td>\n      <td>NaN</td>\n      <td>NaN</td>\n      <td>2006.0</td>\n      <td>NaN</td>\n      <td>http://www.vgchartz.com/game/2667/wii-sports/?...</td>\n      <td>1</td>\n      <td>NaN</td>\n      <td>/games/boxart/full_2258645AmericaFrontccc.jpg</td>\n    </tr>\n    <tr>\n      <th>1</th>\n      <td>2</td>\n      <td>Super Mario Bros.</td>\n      <td>super-mario-bros</td>\n      <td>Platform</td>\n      <td>NaN</td>\n      <td>NES</td>\n      <td>Nintendo</td>\n      <td>Nintendo EAD</td>\n      <td>NaN</td>\n      <td>10.0</td>\n      <td>...</td>\n      <td>NaN</td>\n      <td>NaN</td>\n      <td>NaN</td>\n      <td>NaN</td>\n      <td>1985.0</td>\n      <td>NaN</td>\n      <td>http://www.vgchartz.com/game/6455/super-mario-...</td>\n      <td>1</td>\n      <td>NaN</td>\n      <td>/games/boxart/8972270ccc.jpg</td>\n    </tr>\n    <tr>\n      <th>2</th>\n      <td>3</td>\n      <td>Mario Kart Wii</td>\n      <td>mario-kart-wii</td>\n      <td>Racing</td>\n      <td>E</td>\n      <td>Wii</td>\n      <td>Nintendo</td>\n      <td>Nintendo EAD</td>\n      <td>NaN</td>\n      <td>8.2</td>\n      <td>...</td>\n      <td>NaN</td>\n      <td>NaN</td>\n      <td>NaN</td>\n      <td>NaN</td>\n      <td>2008.0</td>\n      <td>11th Apr 18</td>\n      <td>http://www.vgchartz.com/game/6968/mario-kart-w...</td>\n      <td>1</td>\n      <td>8.7</td>\n      <td>/games/boxart/full_8932480AmericaFrontccc.jpg</td>\n    </tr>\n    <tr>\n      <th>3</th>\n      <td>4</td>\n      <td>PlayerUnknown's Battlegrounds</td>\n      <td>playerunknowns-battlegrounds</td>\n      <td>Shooter</td>\n      <td>NaN</td>\n      <td>PC</td>\n      <td>PUBG Corporation</td>\n      <td>PUBG Corporation</td>\n      <td>NaN</td>\n      <td>NaN</td>\n      <td>...</td>\n      <td>NaN</td>\n      <td>NaN</td>\n      <td>NaN</td>\n      <td>NaN</td>\n      <td>2017.0</td>\n      <td>13th Nov 18</td>\n      <td>http://www.vgchartz.com/game/215988/playerunkn...</td>\n      <td>1</td>\n      <td>NaN</td>\n      <td>/games/boxart/full_8052843AmericaFrontccc.jpg</td>\n    </tr>\n    <tr>\n      <th>4</th>\n      <td>5</td>\n      <td>Wii Sports Resort</td>\n      <td>wii-sports-resort</td>\n      <td>Sports</td>\n      <td>E</td>\n      <td>Wii</td>\n      <td>Nintendo</td>\n      <td>Nintendo EAD</td>\n      <td>NaN</td>\n      <td>8.0</td>\n      <td>...</td>\n      <td>NaN</td>\n      <td>NaN</td>\n      <td>NaN</td>\n      <td>NaN</td>\n      <td>2009.0</td>\n      <td>NaN</td>\n      <td>http://www.vgchartz.com/game/24656/wii-sports-...</td>\n      <td>1</td>\n      <td>8.8</td>\n      <td>/games/boxart/full_7295041AmericaFrontccc.jpg</td>\n    </tr>\n  </tbody>\n</table>\n<p>5 rows × 23 columns</p>\n</div>",
      "text/plain": "   Rank                           Name                      basename  \\\n0     1                     Wii Sports                    wii-sports   \n1     2              Super Mario Bros.              super-mario-bros   \n2     3                 Mario Kart Wii                mario-kart-wii   \n3     4  PlayerUnknown's Battlegrounds  playerunknowns-battlegrounds   \n4     5              Wii Sports Resort             wii-sports-resort   \n\n      Genre ESRB_Rating Platform         Publisher         Developer  \\\n0    Sports           E      Wii          Nintendo      Nintendo EAD   \n1  Platform         NaN      NES          Nintendo      Nintendo EAD   \n2    Racing           E      Wii          Nintendo      Nintendo EAD   \n3   Shooter         NaN       PC  PUBG Corporation  PUBG Corporation   \n4    Sports           E      Wii          Nintendo      Nintendo EAD   \n\n   VGChartz_Score  Critic_Score  \\\n0             NaN           7.7   \n1             NaN          10.0   \n2             NaN           8.2   \n3             NaN           NaN   \n4             NaN           8.0   \n\n                       ...                        NA_Sales  PAL_Sales  \\\n0                      ...                             NaN        NaN   \n1                      ...                             NaN        NaN   \n2                      ...                             NaN        NaN   \n3                      ...                             NaN        NaN   \n4                      ...                             NaN        NaN   \n\n   JP_Sales  Other_Sales    Year  Last_Update  \\\n0       NaN          NaN  2006.0          NaN   \n1       NaN          NaN  1985.0          NaN   \n2       NaN          NaN  2008.0  11th Apr 18   \n3       NaN          NaN  2017.0  13th Nov 18   \n4       NaN          NaN  2009.0          NaN   \n\n                                                 url  status Vgchartzscore  \\\n0  http://www.vgchartz.com/game/2667/wii-sports/?...       1           NaN   \n1  http://www.vgchartz.com/game/6455/super-mario-...       1           NaN   \n2  http://www.vgchartz.com/game/6968/mario-kart-w...       1           8.7   \n3  http://www.vgchartz.com/game/215988/playerunkn...       1           NaN   \n4  http://www.vgchartz.com/game/24656/wii-sports-...       1           8.8   \n\n                                         img_url  \n0  /games/boxart/full_2258645AmericaFrontccc.jpg  \n1                   /games/boxart/8972270ccc.jpg  \n2  /games/boxart/full_8932480AmericaFrontccc.jpg  \n3  /games/boxart/full_8052843AmericaFrontccc.jpg  \n4  /games/boxart/full_7295041AmericaFrontccc.jpg  \n\n[5 rows x 23 columns]"
     },
     "execution_count": 10,
     "metadata": {},
     "output_type": "execute_result"
    }
   ],
   "source": [
    "import pandas as pd\n",
    "\n",
    "rawdata = pd.read_csv(\"data/vgsales-12-4-2019.csv\")\n",
    "\n",
    "rawdata.head()"
   ]
  },
  {
   "cell_type": "code",
   "execution_count": 20,
   "metadata": {},
   "outputs": [
    {
     "data": {
      "text/html": "<div>\n<style scoped>\n    .dataframe tbody tr th:only-of-type {\n        vertical-align: middle;\n    }\n\n    .dataframe tbody tr th {\n        vertical-align: top;\n    }\n\n    .dataframe thead th {\n        text-align: right;\n    }\n</style>\n<table border=\"1\" class=\"dataframe\">\n  <thead>\n    <tr style=\"text-align: right;\">\n      <th></th>\n      <th>Publisher</th>\n      <th>Year</th>\n      <th>Num_games</th>\n    </tr>\n  </thead>\n  <tbody>\n    <tr>\n      <th>0</th>\n      <td>100 Gates</td>\n      <td>2014</td>\n      <td>2</td>\n    </tr>\n    <tr>\n      <th>1</th>\n      <td>10TACLE Studios</td>\n      <td>2002</td>\n      <td>2</td>\n    </tr>\n    <tr>\n      <th>2</th>\n      <td>10TACLE Studios</td>\n      <td>2005</td>\n      <td>1</td>\n    </tr>\n    <tr>\n      <th>3</th>\n      <td>10TACLE Studios</td>\n      <td>2006</td>\n      <td>1</td>\n    </tr>\n    <tr>\n      <th>4</th>\n      <td>10TACLE Studios</td>\n      <td>2007</td>\n      <td>1</td>\n    </tr>\n  </tbody>\n</table>\n</div>",
      "text/plain": "         Publisher  Year  Num_games\n0        100 Gates  2014          2\n1  10TACLE Studios  2002          2\n2  10TACLE Studios  2005          1\n3  10TACLE Studios  2006          1\n4  10TACLE Studios  2007          1"
     },
     "execution_count": 20,
     "metadata": {},
     "output_type": "execute_result"
    }
   ],
   "source": [
    "num_games_by_publisher = rawdata[['Publisher', 'Name', 'Year']].groupby(['Publisher', 'Year']).count().reset_index().rename(columns={'Name': 'Num_games'})\n",
    "\n",
    "num_games_by_publisher['Year'] = num_games_by_publisher['Year'].astype(int)\n",
    "num_games_by_publisher.head()"
   ]
  },
  {
   "cell_type": "code",
   "execution_count": 12,
   "metadata": {},
   "outputs": [],
   "source": [
    "num_games_by_publisher.to_csv(\"data/vgsales-12-4-2019_num_publishers.csv\", index=False)"
   ]
  },
  {
   "cell_type": "code",
   "execution_count": 13,
   "metadata": {},
   "outputs": [
    {
     "data": {
      "text/plain": "Publisher    100 Gates\nNum_games            1\ndtype: object"
     },
     "execution_count": 13,
     "metadata": {},
     "output_type": "execute_result"
    }
   ],
   "source": [
    "num_games_by_publisher.min()"
   ]
  },
  {
   "cell_type": "code",
   "execution_count": 14,
   "metadata": {},
   "outputs": [
    {
     "data": {
      "text/plain": "Publisher    1120\nNum_games    1120\ndtype: int64"
     },
     "execution_count": 14,
     "metadata": {},
     "output_type": "execute_result"
    }
   ],
   "source": [
    "num_games_by_publisher.loc[num_games_by_publisher['Num_games'] == 1].count()"
   ]
  },
  {
   "cell_type": "code",
   "execution_count": 15,
   "metadata": {},
   "outputs": [
    {
     "data": {
      "text/plain": "3069"
     },
     "execution_count": 15,
     "metadata": {},
     "output_type": "execute_result"
    }
   ],
   "source": [
    "num_games_by_publisher['Num_games'].count()"
   ]
  },
  {
   "cell_type": "code",
   "metadata": {},
   "outputs": [],
   "source": []
  }
 ]
}